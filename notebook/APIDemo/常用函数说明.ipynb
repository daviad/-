{
 "cells": [
  {
   "cell_type": "markdown",
   "metadata": {},
   "source": [
    "## tensorflow tf.argmax() 用法 例子\n",
    "\n",
    "argmax()官方文档如下：\n",
    " >tf.argmax(input, dimension, name=None) \n",
    "Returns the index with the largest value across dimensions of a tensor. \n",
    "Args: \n",
    "1. input: A Tensor. Must be one of the following types: float32, float64, int64, int32, uint8, int16, int8, complex64, qint8, quint8, qint32. \n",
    "2. dimension: A Tensor of type int32. int32, 0 <= dimension < rank(input). Describes which dimension of the input Tensor to reduce across. For vectors, use dimension = 0. \n",
    "3. name: A name for the operation (optional). \n",
    "4. Returns: A Tensor of type int64.\n",
    "\n",
    "* dimension=0 按列找 \n",
    "* dimension=1 按行找 \n",
    "* tf.argmax()返回最大数值的<font color=red >**下标**</font>\n",
    "\n",
    "通常和tf.equal()一起使用，计算模型准确度     \n",
    "`\n",
    "correct_pred = tf.equal(tf.argmax(pred,1), tf.argmax(y,1))\n",
    "accuracy = tf.reduce_mean(tf.cast(correct_pred, tf.float32))\n",
    "`\n",
    "\n",
    "这里返回一个布尔数组。为了计算我们分类的准确率，我们将布尔值转换为浮点数来代表对、错，然后取平均值。例如：[True, False, True, True]变为[1,0,1,1]，计算出平均值为0.75。\n"
   ]
  },
  {
   "cell_type": "code",
   "execution_count": 25,
   "metadata": {},
   "outputs": [
    {
     "name": "stdout",
     "output_type": "stream",
     "text": [
      "4\n",
      "4\n"
     ]
    }
   ],
   "source": [
    "import tensorflow as tf\n",
    "a = tf.constant([1.,2.,3.,0.,9.,])\n",
    "b = tf.constant([[1,2,3],[3,2,1],[4,5,6],[6,5,4]])\n",
    "with tf.Session() as sess:\n",
    "  m1 = sess.run(tf.argmax(a, 0));\n",
    "  print(m1)\n",
    "  m2 = sess.run(tf.argmax(a));\n",
    "  print(m2);"
   ]
  },
  {
   "cell_type": "code",
   "execution_count": 26,
   "metadata": {},
   "outputs": [
    {
     "name": "stdout",
     "output_type": "stream",
     "text": [
      "[3 2 2]\n",
      "[3 2 2]\n",
      "Tensor(\"Const_19:0\", shape=(4, 3), dtype=int32)\n"
     ]
    }
   ],
   "source": [
    "with tf.Session() as sess:\n",
    " print(sess.run(tf.argmax(b, 0)))\n",
    " print(sess.run(tf.argmax(b)))\n",
    " print(b)"
   ]
  },
  {
   "cell_type": "code",
   "execution_count": 27,
   "metadata": {},
   "outputs": [
    {
     "name": "stdout",
     "output_type": "stream",
     "text": [
      "[2 0 2 0]\n"
     ]
    }
   ],
   "source": [
    "with tf.Session() as sess:\n",
    " print(sess.run(tf.argmax(b, 1)))\n"
   ]
  },
  {
   "cell_type": "markdown",
   "metadata": {},
   "source": [
    "注意此处的结果 <font color=red> 下标 </font>"
   ]
  },
  {
   "cell_type": "markdown",
   "metadata": {},
   "source": [
    "## Tensorboard\n",
    "\n",
    "tensorboard是通过读取events files来显示的，events file则包含在图计算时生成的summary data。\n",
    "\n",
    "`1 tf.summary.scalar('mean', mean)\n",
    " 2 tf.summary.histogram('histogram', var)\n",
    "`\n",
    "\n",
    "1.summary data\n",
    "某个summary操作原型：\n",
    "tf.summary.scalar(name, tensor, collections=None)\n",
    "这些summary的操作都是对某个tensor产生单个的summary protocol buffer，是一种能被tensorboard读取的格式。Summaries provide a way to export condensed information about a model, which is then accessible in tools such as TensorBoard.\n",
    "summary的操作对于整个图来说相当于是外设，因为tensorflow是由结果驱动的，而图的结果并不依赖于summary操作，所以summary操作需要被run。整个图经常需要检测许许多多的值，也就是许多值需要summary operation，一个个去run来启动太麻烦了，tensorflow为我们提供了这个函数：\n",
    "merged=tf.summary.merge_all(key=tf.GraphKeys.SUMMARIES)\n",
    "#Merges all summaries collected in the default graph.\n",
    " \n",
    "\n",
    "把图中所有的summary数据合并在一起，一个run就能启动所有的summary operations。像这样：\n",
    "summary, acc = sess.run([merged, accuracy], feed_dict=feed_dict(False))\n",
    " \n",
    "\n",
    "btw也有单独merge函数。\n",
    "tensorboard是从磁盘中读events files的。tensorflow用一个tensorflow.summary.FileWriter将图 运行得到的summary 数据写到磁盘里。FileWriter的构造器包含一个logdir也就是summary data写到的位置，以及可选的图。\n",
    "train_writer = tf.summary.FileWriter(FLAGS.summaries_dir +'/train',\n",
    "sess.graph)\n",
    " \n",
    "\n",
    "把每一次run的信息和得到的数据加到writer里面\n",
    "1 train_writer.add_run_metadata(run_metadata, 'step%03d'% i)\n",
    "2 train_writer.add_summary(summary, i)\n",
    " \n",
    "\n",
    "最后把writer关掉，大功告成。\n",
    "1 train_writer.close()\n",
    "\n",
    "\n",
    "https://www.cnblogs.com/wyh1993/p/1f142f2d7daab0a8d74907f1d44effe7.html"
   ]
  },
  {
   "cell_type": "markdown",
   "metadata": {},
   "source": [
    "## tf.scalar tf.summary"
   ]
  },
  {
   "cell_type": "code",
   "execution_count": 36,
   "metadata": {},
   "outputs": [
    {
     "name": "stdout",
     "output_type": "stream",
     "text": [
      "0\n",
      "Tensor(\"Assign_4:0\", shape=(), dtype=int32_ref)\n",
      "Tensor(\"Add_7:0\", shape=(), dtype=int32)\n",
      "1\n",
      "Tensor(\"Assign_4:0\", shape=(), dtype=int32_ref)\n",
      "Tensor(\"Add_7:0\", shape=(), dtype=int32)\n",
      "2\n",
      "Tensor(\"Assign_4:0\", shape=(), dtype=int32_ref)\n",
      "Tensor(\"Add_7:0\", shape=(), dtype=int32)\n",
      "3\n"
     ]
    }
   ],
   "source": []
  }
 ],
 "metadata": {
  "kernelspec": {
   "display_name": "Python 3",
   "language": "python",
   "name": "python3"
  },
  "language_info": {
   "codemirror_mode": {
    "name": "ipython",
    "version": 3
   },
   "file_extension": ".py",
   "mimetype": "text/x-python",
   "name": "python",
   "nbconvert_exporter": "python",
   "pygments_lexer": "ipython3",
   "version": "3.6.4"
  }
 },
 "nbformat": 4,
 "nbformat_minor": 2
}
