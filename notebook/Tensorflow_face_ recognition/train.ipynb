{
 "cells": [
  {
   "cell_type": "code",
   "execution_count": 1,
   "metadata": {},
   "outputs": [],
   "source": [
    "import sys  \n",
    "import cv2  \n",
    "import random  \n",
    "import numpy as np  \n",
    "import tensorflow as tf  \n",
    "import tensorflow.python.platform  \n",
    "  \n",
    "NUM_CLASSES = 2  \n",
    "  \n",
    "IMAGE_SIZE = 28  "
   ]
  },
  {
   "cell_type": "markdown",
   "metadata": {},
   "source": [
    "tf定义了tf.app.flags，用于支持接受命令行传递参数，相当于接受argv。\n",
    "第一个是参数名称，第二个参数是默认值，第三个是参数描述"
   ]
  },
  {
   "cell_type": "code",
   "execution_count": 2,
   "metadata": {},
   "outputs": [],
   "source": [
    "flags = tf.app.flags  \n",
    "FLAGS = flags.FLAGS  \n",
    "  \n",
    "flags.DEFINE_string('train', './train/data.txt', 'File name of train data')  \n",
    "  \n",
    "flags.DEFINE_string('test', './test/data.txt', 'File name of test data')  \n",
    "  \n",
    "flags.DEFINE_string('train_dir', './data/', 'Directory to put the training data')  \n",
    "  \n",
    "flags.DEFINE_integer('max_steps', 100, 'Number of steps to run trainer.')  \n",
    "  \n",
    "flags.DEFINE_integer('batch_size', 20, 'Batch size Must divide evenly into the dataset sizes.')  \n",
    "  \n",
    "flags.DEFINE_float('learning_rate', 1e-4, 'Initial learning rate.')  "
   ]
  },
  {
   "cell_type": "markdown",
   "metadata": {},
   "source": [
    "定义cnn网络模型。\n",
    "tf.nn.conv2d\n",
    "这个函数的功能是：给定4维的input和filter，计算出一个2维的卷积结果。函数的定义为：\n",
    "`\n",
    "def conv2d(input, filter, strides, padding, use_cudnn_on_gpu=None,\n",
    "           data_format=None, name=None):\n",
    "`\n",
    "前几个参数分别是input, filter, strides, padding, use_cudnn_on_gpu, …下面来一一解释 \n",
    "input：待卷积的数据。格式要求为一个张量，[batch, in_height, in_width, in_channels]. \n",
    "分别表示 批次数，图像高度，宽度，输入通道数。 \n",
    "filter： 卷积核。格式要求为[filter_height, filter_width, in_channels, out_channels]. \n",
    "分别表示 卷积核的高度，宽度，输入通道数，输出通道数。 \n",
    "strides :一个长为4的list. 表示每次卷积以后卷积窗口在input中滑动的距离 \n",
    "padding ：有SAME和VALID两种选项，表示是否要保留图像边上那一圈不完全卷积的部分。如果是SAME，则保留 \n",
    "use_cudnn_on_gpu ：是否使用cudnn加速。默认是True\n",
    "\n",
    "\n",
    "tf.nn.max_pool \n",
    "进行最大值池化操作,而avg_pool 则进行平均值池化操作.函数的定义为：\n",
    "`\n",
    "def max_pool(value, ksize, strides, padding, data_format=\"NHWC\", name=None):\n",
    "`\n",
    "value: 一个4D张量，格式为[batch, height, width, channels]，与conv2d中input格式一样 \n",
    "ksize: 长为4的list,表示池化窗口的尺寸 \n",
    "strides: 池化窗口的滑动值，与conv2d中的一样 \n",
    "padding: 与conv2d中用法一样。"
   ]
  },
  {
   "cell_type": "code",
   "execution_count": 5,
   "metadata": {},
   "outputs": [],
   "source": [
    "def inference(images_placeholder, keep_prob):  \n",
    "  def weight_variable(shape):  \n",
    "    initial = tf.truncated_normal(shape, stddev=0.1)  \n",
    "    return tf.Variable(initial)  \n",
    "  \n",
    "  def bias_variable(shape):  \n",
    "    initial = tf.constant(0.1, shape=shape)  \n",
    "    return tf.Variable(initial)  \n",
    "\n",
    "  def conv2d(x, W):  \n",
    "    return tf.nn.conv2d(x, W, strides=[1, 1, 1, 1], padding='SAME')  \n",
    "  \n",
    "  def max_pool_2x2(x):  \n",
    "    return tf.nn.max_pool(x, ksize=[1, 2, 2, 1],  \n",
    "                          strides=[1, 2, 2, 1], padding='SAME')  \n",
    "  \n",
    "  x_image = tf.reshape(images_placeholder, [-1, IMAGE_SIZE, IMAGE_SIZE, 3])  \n",
    "  "
   ]
  },
  {
   "cell_type": "markdown",
   "metadata": {},
   "source": [
    "第一层\n",
    "卷积核(filter)的尺寸是5*5, 通道数为1，输出通道为32，即feature map 数目为32\n",
    "又因为strides=[1,1,1,1] 所以单个通道的输出尺寸应该跟输入图像一样。即总的卷积输出应该为?*28*28*32\n",
    "也就是单个通道输出为28*28，共有32个通道,共有?个批次\n",
    "在池化阶段，ksize=[1,2,2,1] 那么卷积结果经过池化以后的结果，其尺寸应该是？*14*14*32"
   ]
  },
  {
   "cell_type": "code",
   "execution_count": 6,
   "metadata": {},
   "outputs": [
    {
     "ename": "NameError",
     "evalue": "name 'weight_variable' is not defined",
     "output_type": "error",
     "traceback": [
      "\u001b[0;31m---------------------------------------------------------------------------\u001b[0m",
      "\u001b[0;31mNameError\u001b[0m                                 Traceback (most recent call last)",
      "\u001b[0;32m<ipython-input-6-e52e309861b8>\u001b[0m in \u001b[0;36m<module>\u001b[0;34m()\u001b[0m\n\u001b[1;32m      1\u001b[0m \u001b[0;32mwith\u001b[0m \u001b[0mtf\u001b[0m\u001b[0;34m.\u001b[0m\u001b[0mname_scope\u001b[0m\u001b[0;34m(\u001b[0m\u001b[0;34m'conv1'\u001b[0m\u001b[0;34m)\u001b[0m \u001b[0;32mas\u001b[0m \u001b[0mscope\u001b[0m\u001b[0;34m:\u001b[0m\u001b[0;34m\u001b[0m\u001b[0m\n\u001b[0;32m----> 2\u001b[0;31m   \u001b[0mW_conv1\u001b[0m \u001b[0;34m=\u001b[0m \u001b[0mweight_variable\u001b[0m\u001b[0;34m(\u001b[0m\u001b[0;34m[\u001b[0m\u001b[0;36m5\u001b[0m\u001b[0;34m,\u001b[0m \u001b[0;36m5\u001b[0m\u001b[0;34m,\u001b[0m \u001b[0;36m3\u001b[0m\u001b[0;34m,\u001b[0m \u001b[0;36m32\u001b[0m\u001b[0;34m]\u001b[0m\u001b[0;34m)\u001b[0m\u001b[0;34m\u001b[0m\u001b[0m\n\u001b[0m\u001b[1;32m      3\u001b[0m   \u001b[0mb_conv1\u001b[0m \u001b[0;34m=\u001b[0m \u001b[0mbias_variable\u001b[0m\u001b[0;34m(\u001b[0m\u001b[0;34m[\u001b[0m\u001b[0;36m32\u001b[0m\u001b[0;34m]\u001b[0m\u001b[0;34m)\u001b[0m\u001b[0;34m\u001b[0m\u001b[0m\n\u001b[1;32m      4\u001b[0m   \u001b[0mh_conv1\u001b[0m \u001b[0;34m=\u001b[0m \u001b[0mtf\u001b[0m\u001b[0;34m.\u001b[0m\u001b[0mnn\u001b[0m\u001b[0;34m.\u001b[0m\u001b[0mrelu\u001b[0m\u001b[0;34m(\u001b[0m\u001b[0mconv2d\u001b[0m\u001b[0;34m(\u001b[0m\u001b[0mx_image\u001b[0m\u001b[0;34m,\u001b[0m \u001b[0mW_conv1\u001b[0m\u001b[0;34m)\u001b[0m \u001b[0;34m+\u001b[0m \u001b[0mb_conv1\u001b[0m\u001b[0;34m)\u001b[0m\u001b[0;34m\u001b[0m\u001b[0m\n\u001b[1;32m      5\u001b[0m \u001b[0;32mwith\u001b[0m \u001b[0mtf\u001b[0m\u001b[0;34m.\u001b[0m\u001b[0mname_scope\u001b[0m\u001b[0;34m(\u001b[0m\u001b[0;34m'pool1'\u001b[0m\u001b[0;34m)\u001b[0m \u001b[0;32mas\u001b[0m \u001b[0mscope\u001b[0m\u001b[0;34m:\u001b[0m\u001b[0;34m\u001b[0m\u001b[0m\n",
      "\u001b[0;31mNameError\u001b[0m: name 'weight_variable' is not defined"
     ]
    }
   ],
   "source": [
    " \"\"\"\n",
    "# 第一层\n",
    "# 卷积核(filter)的尺寸是5*5, 通道数为3，输出通道为32，即feature map 数目为32\n",
    "# 又因为strides=[1,1,1,1] 所以单个通道的输出尺寸应该跟输入图像一样。即总的卷积输出应该为?*28*28*32\n",
    "# 也就是单个通道输出为28*28，共有32个通道,共有?个批次\n",
    "# 在池化阶段，ksize=[1,2,2,1] 那么卷积结果经过池化以后的结果，其尺寸应该是？*14*14*32\n",
    "\"\"\" \n",
    "    with tf.name_scope('conv1') as scope:  \n",
    "    W_conv1 = weight_variable([5, 5, 3, 32])  \n",
    "    b_conv1 = bias_variable([32])  \n",
    "    h_conv1 = tf.nn.relu(conv2d(x_image, W_conv1) + b_conv1)  \n",
    "  with tf.name_scope('pool1') as scope:  \n",
    "    h_pool1 = max_pool_2x2(h_conv1)  \n",
    "  "
   ]
  },
  {
   "cell_type": "markdown",
   "metadata": {},
   "source": [
    "第二层\n",
    "卷积核5*5，输入通道为32，输出通道为64。\n",
    "卷积前图像的尺寸为 ?*14*14*32， 卷积后为?*14*14*64\n",
    "池化后，输出的图像尺寸为?*7*7*64"
   ]
  },
  {
   "cell_type": "code",
   "execution_count": null,
   "metadata": {},
   "outputs": [],
   "source": [
    "  with tf.name_scope('conv2') as scope:  \n",
    "    W_conv2 = weight_variable([5, 5, 32, 64])  \n",
    "  \n",
    "    b_conv2 = bias_variable([64])  \n",
    "  \n",
    "    h_conv2 = tf.nn.relu(conv2d(h_pool1, W_conv2) + b_conv2)  \n",
    "  \n",
    "  with tf.name_scope('pool2') as scope:  \n",
    "    h_pool2 = max_pool_2x2(h_conv2)  \n",
    "  \n",
    "  with tf.name_scope('fc1') as scope:  \n",
    "    W_fc1 = weight_variable([7*7*64, 1024])  \n",
    "    b_fc1 = bias_variable([1024])  \n",
    "    h_pool2_flat = tf.reshape(h_pool2, [-1, 7*7*64])  \n",
    "  \n",
    "    h_fc1 = tf.nn.relu(tf.matmul(h_pool2_flat, W_fc1) + b_fc1)  \n",
    "  \n",
    "    h_fc1_drop = tf.nn.dropout(h_fc1, keep_prob)  \n",
    "  \n",
    "  with tf.name_scope('fc2') as scope:  \n",
    "    W_fc2 = weight_variable([1024, NUM_CLASSES])  \n",
    "    b_fc2 = bias_variable([NUM_CLASSES])  \n",
    "  \n",
    "  with tf.name_scope('softmax') as scope:  \n",
    "    y_conv=tf.nn.softmax(tf.matmul(h_fc1_drop, W_fc2) + b_fc2)  \n",
    "  \n",
    "  return y_conv  \n",
    "  "
   ]
  },
  {
   "cell_type": "code",
   "execution_count": 5,
   "metadata": {},
   "outputs": [],
   "source": [
    "def loss(logits, labels):  \n",
    "  cross_entropy = -tf.reduce_sum(labels*tf.log(logits))  \n",
    "  \n",
    "  tf.summary.scalar(\"cross_entropy\", cross_entropy)  \n",
    "  \n",
    "  return cross_entropy  \n",
    "  \n",
    "def training(loss, learning_rate):  \n",
    "  train_step = tf.train.AdamOptimizer(learning_rate).minimize(loss)  \n",
    "  return train_step  \n",
    "  \n",
    "def accuracy(logits, labels):  \n",
    "  correct_prediction = tf.equal(tf.argmax(logits, 1), tf.argmax(labels, 1))  \n",
    "  \n",
    "  accuracy = tf.reduce_mean(tf.cast(correct_prediction, \"float\"))  \n",
    "  \n",
    "  tf.summary.scalar(\"accuracy\", accuracy)  \n",
    "  return accuracy  \n",
    "  "
   ]
  },
  {
   "cell_type": "code",
   "execution_count": 6,
   "metadata": {},
   "outputs": [
    {
     "ename": "UnrecognizedFlagError",
     "evalue": "Unknown command line flag 'f'",
     "output_type": "error",
     "traceback": [
      "\u001b[0;31m---------------------------------------------------------------------------\u001b[0m",
      "\u001b[0;31mUnrecognizedFlagError\u001b[0m                     Traceback (most recent call last)",
      "\u001b[0;32m<ipython-input-6-1220b125fa7d>\u001b[0m in \u001b[0;36m<module>\u001b[0;34m()\u001b[0m\n\u001b[1;32m      1\u001b[0m \u001b[0;32mif\u001b[0m \u001b[0m__name__\u001b[0m \u001b[0;34m==\u001b[0m \u001b[0;34m'__main__'\u001b[0m\u001b[0;34m:\u001b[0m\u001b[0;34m\u001b[0m\u001b[0m\n\u001b[0;32m----> 2\u001b[0;31m   \u001b[0mprint\u001b[0m\u001b[0;34m(\u001b[0m\u001b[0mFLAGS\u001b[0m\u001b[0;34m.\u001b[0m\u001b[0mtrain\u001b[0m\u001b[0;34m)\u001b[0m\u001b[0;34m\u001b[0m\u001b[0m\n\u001b[0m\u001b[1;32m      3\u001b[0m   \u001b[0mf\u001b[0m \u001b[0;34m=\u001b[0m \u001b[0mopen\u001b[0m\u001b[0;34m(\u001b[0m\u001b[0mFLAGS\u001b[0m\u001b[0;34m.\u001b[0m\u001b[0mtrain\u001b[0m\u001b[0;34m,\u001b[0m \u001b[0;34m'r'\u001b[0m\u001b[0;34m)\u001b[0m\u001b[0;34m\u001b[0m\u001b[0m\n\u001b[1;32m      4\u001b[0m   \u001b[0mtrain_image\u001b[0m \u001b[0;34m=\u001b[0m \u001b[0;34m[\u001b[0m\u001b[0;34m]\u001b[0m\u001b[0;34m\u001b[0m\u001b[0m\n\u001b[1;32m      5\u001b[0m   \u001b[0mtrain_label\u001b[0m \u001b[0;34m=\u001b[0m \u001b[0;34m[\u001b[0m\u001b[0;34m]\u001b[0m\u001b[0;34m\u001b[0m\u001b[0m\n",
      "\u001b[0;32m/usr/local/lib/python3.6/site-packages/tensorflow/python/platform/flags.py\u001b[0m in \u001b[0;36m__getattr__\u001b[0;34m(self, name)\u001b[0m\n\u001b[1;32m     82\u001b[0m     \u001b[0;31m# a flag.\u001b[0m\u001b[0;34m\u001b[0m\u001b[0;34m\u001b[0m\u001b[0m\n\u001b[1;32m     83\u001b[0m     \u001b[0;32mif\u001b[0m \u001b[0;32mnot\u001b[0m \u001b[0mwrapped\u001b[0m\u001b[0;34m.\u001b[0m\u001b[0mis_parsed\u001b[0m\u001b[0;34m(\u001b[0m\u001b[0;34m)\u001b[0m\u001b[0;34m:\u001b[0m\u001b[0;34m\u001b[0m\u001b[0m\n\u001b[0;32m---> 84\u001b[0;31m       \u001b[0mwrapped\u001b[0m\u001b[0;34m(\u001b[0m\u001b[0m_sys\u001b[0m\u001b[0;34m.\u001b[0m\u001b[0margv\u001b[0m\u001b[0;34m)\u001b[0m\u001b[0;34m\u001b[0m\u001b[0m\n\u001b[0m\u001b[1;32m     85\u001b[0m     \u001b[0;32mreturn\u001b[0m \u001b[0mwrapped\u001b[0m\u001b[0;34m.\u001b[0m\u001b[0m__getattr__\u001b[0m\u001b[0;34m(\u001b[0m\u001b[0mname\u001b[0m\u001b[0;34m)\u001b[0m\u001b[0;34m\u001b[0m\u001b[0m\n\u001b[1;32m     86\u001b[0m \u001b[0;34m\u001b[0m\u001b[0m\n",
      "\u001b[0;32m/usr/local/lib/python3.6/site-packages/absl/flags/_flagvalues.py\u001b[0m in \u001b[0;36m__call__\u001b[0;34m(self, argv, known_only)\u001b[0m\n\u001b[1;32m    628\u001b[0m       \u001b[0msuggestions\u001b[0m \u001b[0;34m=\u001b[0m \u001b[0m_helpers\u001b[0m\u001b[0;34m.\u001b[0m\u001b[0mget_flag_suggestions\u001b[0m\u001b[0;34m(\u001b[0m\u001b[0mname\u001b[0m\u001b[0;34m,\u001b[0m \u001b[0mlist\u001b[0m\u001b[0;34m(\u001b[0m\u001b[0mself\u001b[0m\u001b[0;34m)\u001b[0m\u001b[0;34m)\u001b[0m\u001b[0;34m\u001b[0m\u001b[0m\n\u001b[1;32m    629\u001b[0m       raise _exceptions.UnrecognizedFlagError(\n\u001b[0;32m--> 630\u001b[0;31m           name, value, suggestions=suggestions)\n\u001b[0m\u001b[1;32m    631\u001b[0m \u001b[0;34m\u001b[0m\u001b[0m\n\u001b[1;32m    632\u001b[0m     \u001b[0mself\u001b[0m\u001b[0;34m.\u001b[0m\u001b[0mmark_as_parsed\u001b[0m\u001b[0;34m(\u001b[0m\u001b[0;34m)\u001b[0m\u001b[0;34m\u001b[0m\u001b[0m\n",
      "\u001b[0;31mUnrecognizedFlagError\u001b[0m: Unknown command line flag 'f'"
     ]
    },
    {
     "ename": "UnrecognizedFlagError",
     "evalue": "Unknown command line flag 'f'",
     "output_type": "error",
     "traceback": [
      "\u001b[0;31m---------------------------------------------------------------------------\u001b[0m",
      "\u001b[0;31mUnrecognizedFlagError\u001b[0m                     Traceback (most recent call last)",
      "\u001b[0;32m<ipython-input-6-1220b125fa7d>\u001b[0m in \u001b[0;36m<module>\u001b[0;34m()\u001b[0m\n\u001b[1;32m      1\u001b[0m \u001b[0;32mif\u001b[0m \u001b[0m__name__\u001b[0m \u001b[0;34m==\u001b[0m \u001b[0;34m'__main__'\u001b[0m\u001b[0;34m:\u001b[0m\u001b[0;34m\u001b[0m\u001b[0m\n\u001b[0;32m----> 2\u001b[0;31m   \u001b[0mprint\u001b[0m\u001b[0;34m(\u001b[0m\u001b[0mFLAGS\u001b[0m\u001b[0;34m.\u001b[0m\u001b[0mtrain\u001b[0m\u001b[0;34m)\u001b[0m\u001b[0;34m\u001b[0m\u001b[0m\n\u001b[0m\u001b[1;32m      3\u001b[0m   \u001b[0mf\u001b[0m \u001b[0;34m=\u001b[0m \u001b[0mopen\u001b[0m\u001b[0;34m(\u001b[0m\u001b[0mFLAGS\u001b[0m\u001b[0;34m.\u001b[0m\u001b[0mtrain\u001b[0m\u001b[0;34m,\u001b[0m \u001b[0;34m'r'\u001b[0m\u001b[0;34m)\u001b[0m\u001b[0;34m\u001b[0m\u001b[0m\n\u001b[1;32m      4\u001b[0m   \u001b[0mtrain_image\u001b[0m \u001b[0;34m=\u001b[0m \u001b[0;34m[\u001b[0m\u001b[0;34m]\u001b[0m\u001b[0;34m\u001b[0m\u001b[0m\n\u001b[1;32m      5\u001b[0m   \u001b[0mtrain_label\u001b[0m \u001b[0;34m=\u001b[0m \u001b[0;34m[\u001b[0m\u001b[0;34m]\u001b[0m\u001b[0;34m\u001b[0m\u001b[0m\n",
      "\u001b[0;32m/usr/local/lib/python3.6/site-packages/tensorflow/python/platform/flags.py\u001b[0m in \u001b[0;36m__getattr__\u001b[0;34m(self, name)\u001b[0m\n\u001b[1;32m     82\u001b[0m     \u001b[0;31m# a flag.\u001b[0m\u001b[0;34m\u001b[0m\u001b[0;34m\u001b[0m\u001b[0m\n\u001b[1;32m     83\u001b[0m     \u001b[0;32mif\u001b[0m \u001b[0;32mnot\u001b[0m \u001b[0mwrapped\u001b[0m\u001b[0;34m.\u001b[0m\u001b[0mis_parsed\u001b[0m\u001b[0;34m(\u001b[0m\u001b[0;34m)\u001b[0m\u001b[0;34m:\u001b[0m\u001b[0;34m\u001b[0m\u001b[0m\n\u001b[0;32m---> 84\u001b[0;31m       \u001b[0mwrapped\u001b[0m\u001b[0;34m(\u001b[0m\u001b[0m_sys\u001b[0m\u001b[0;34m.\u001b[0m\u001b[0margv\u001b[0m\u001b[0;34m)\u001b[0m\u001b[0;34m\u001b[0m\u001b[0m\n\u001b[0m\u001b[1;32m     85\u001b[0m     \u001b[0;32mreturn\u001b[0m \u001b[0mwrapped\u001b[0m\u001b[0;34m.\u001b[0m\u001b[0m__getattr__\u001b[0m\u001b[0;34m(\u001b[0m\u001b[0mname\u001b[0m\u001b[0;34m)\u001b[0m\u001b[0;34m\u001b[0m\u001b[0m\n\u001b[1;32m     86\u001b[0m \u001b[0;34m\u001b[0m\u001b[0m\n",
      "\u001b[0;32m/usr/local/lib/python3.6/site-packages/absl/flags/_flagvalues.py\u001b[0m in \u001b[0;36m__call__\u001b[0;34m(self, argv, known_only)\u001b[0m\n\u001b[1;32m    628\u001b[0m       \u001b[0msuggestions\u001b[0m \u001b[0;34m=\u001b[0m \u001b[0m_helpers\u001b[0m\u001b[0;34m.\u001b[0m\u001b[0mget_flag_suggestions\u001b[0m\u001b[0;34m(\u001b[0m\u001b[0mname\u001b[0m\u001b[0;34m,\u001b[0m \u001b[0mlist\u001b[0m\u001b[0;34m(\u001b[0m\u001b[0mself\u001b[0m\u001b[0;34m)\u001b[0m\u001b[0;34m)\u001b[0m\u001b[0;34m\u001b[0m\u001b[0m\n\u001b[1;32m    629\u001b[0m       raise _exceptions.UnrecognizedFlagError(\n\u001b[0;32m--> 630\u001b[0;31m           name, value, suggestions=suggestions)\n\u001b[0m\u001b[1;32m    631\u001b[0m \u001b[0;34m\u001b[0m\u001b[0m\n\u001b[1;32m    632\u001b[0m     \u001b[0mself\u001b[0m\u001b[0;34m.\u001b[0m\u001b[0mmark_as_parsed\u001b[0m\u001b[0;34m(\u001b[0m\u001b[0;34m)\u001b[0m\u001b[0;34m\u001b[0m\u001b[0m\n",
      "\u001b[0;31mUnrecognizedFlagError\u001b[0m: Unknown command line flag 'f'"
     ]
    }
   ],
   "source": [
    "if __name__ == '__main__':  \n",
    "  print(FLAGS.train)\n",
    "  f = open(FLAGS.train, 'r')  \n",
    "  train_image = []  \n",
    "  train_label = []  \n",
    "  "
   ]
  },
  {
   "cell_type": "code",
   "execution_count": 7,
   "metadata": {},
   "outputs": [
    {
     "ename": "NameError",
     "evalue": "name 'f' is not defined",
     "output_type": "error",
     "traceback": [
      "\u001b[0;31m---------------------------------------------------------------------------\u001b[0m",
      "\u001b[0;31mNameError\u001b[0m                                 Traceback (most recent call last)",
      "\u001b[0;32m<ipython-input-7-76e60e7e6ef2>\u001b[0m in \u001b[0;36m<module>\u001b[0;34m()\u001b[0m\n\u001b[1;32m      1\u001b[0m \u001b[0mrow\u001b[0m \u001b[0;34m=\u001b[0m \u001b[0;36m0\u001b[0m\u001b[0;34m\u001b[0m\u001b[0m\n\u001b[0;32m----> 2\u001b[0;31m \u001b[0;32mfor\u001b[0m \u001b[0mline\u001b[0m \u001b[0;32min\u001b[0m \u001b[0mf\u001b[0m\u001b[0;34m:\u001b[0m\u001b[0;34m\u001b[0m\u001b[0m\n\u001b[0m\u001b[1;32m      3\u001b[0m   \u001b[0mprint\u001b[0m\u001b[0;34m(\u001b[0m\u001b[0mline\u001b[0m\u001b[0;34m)\u001b[0m\u001b[0;34m;\u001b[0m\u001b[0;34m\u001b[0m\u001b[0m\n\u001b[1;32m      4\u001b[0m   \u001b[0mline\u001b[0m \u001b[0;34m=\u001b[0m \u001b[0mline\u001b[0m\u001b[0;34m.\u001b[0m\u001b[0mrstrip\u001b[0m\u001b[0;34m(\u001b[0m\u001b[0;34m)\u001b[0m\u001b[0;34m\u001b[0m\u001b[0m\n\u001b[1;32m      5\u001b[0m   \u001b[0ml\u001b[0m \u001b[0;34m=\u001b[0m \u001b[0mline\u001b[0m\u001b[0;34m.\u001b[0m\u001b[0msplit\u001b[0m\u001b[0;34m(\u001b[0m\u001b[0;34m)\u001b[0m\u001b[0;34m\u001b[0m\u001b[0m\n",
      "\u001b[0;31mNameError\u001b[0m: name 'f' is not defined"
     ]
    },
    {
     "ename": "NameError",
     "evalue": "name 'f' is not defined",
     "output_type": "error",
     "traceback": [
      "\u001b[0;31m---------------------------------------------------------------------------\u001b[0m",
      "\u001b[0;31mNameError\u001b[0m                                 Traceback (most recent call last)",
      "\u001b[0;32m<ipython-input-7-76e60e7e6ef2>\u001b[0m in \u001b[0;36m<module>\u001b[0;34m()\u001b[0m\n\u001b[1;32m      1\u001b[0m \u001b[0mrow\u001b[0m \u001b[0;34m=\u001b[0m \u001b[0;36m0\u001b[0m\u001b[0;34m\u001b[0m\u001b[0m\n\u001b[0;32m----> 2\u001b[0;31m \u001b[0;32mfor\u001b[0m \u001b[0mline\u001b[0m \u001b[0;32min\u001b[0m \u001b[0mf\u001b[0m\u001b[0;34m:\u001b[0m\u001b[0;34m\u001b[0m\u001b[0m\n\u001b[0m\u001b[1;32m      3\u001b[0m   \u001b[0mprint\u001b[0m\u001b[0;34m(\u001b[0m\u001b[0mline\u001b[0m\u001b[0;34m)\u001b[0m\u001b[0;34m;\u001b[0m\u001b[0;34m\u001b[0m\u001b[0m\n\u001b[1;32m      4\u001b[0m   \u001b[0mline\u001b[0m \u001b[0;34m=\u001b[0m \u001b[0mline\u001b[0m\u001b[0;34m.\u001b[0m\u001b[0mrstrip\u001b[0m\u001b[0;34m(\u001b[0m\u001b[0;34m)\u001b[0m\u001b[0;34m\u001b[0m\u001b[0m\n\u001b[1;32m      5\u001b[0m   \u001b[0ml\u001b[0m \u001b[0;34m=\u001b[0m \u001b[0mline\u001b[0m\u001b[0;34m.\u001b[0m\u001b[0msplit\u001b[0m\u001b[0;34m(\u001b[0m\u001b[0;34m)\u001b[0m\u001b[0;34m\u001b[0m\u001b[0m\n",
      "\u001b[0;31mNameError\u001b[0m: name 'f' is not defined"
     ]
    }
   ],
   "source": [
    "  row = 0\n",
    "  for line in f: \n",
    "    print(line); \n",
    "    line = line.rstrip()  \n",
    "    l = line.split()  \n",
    "  \n",
    "    row = row +1;\n",
    "    print(row)"
   ]
  },
  {
   "cell_type": "code",
   "execution_count": 8,
   "metadata": {},
   "outputs": [
    {
     "ename": "IndentationError",
     "evalue": "unexpected indent (<ipython-input-8-f33247f1db40>, line 10)",
     "output_type": "error",
     "traceback": [
      "\u001b[0;36m  File \u001b[0;32m\"<ipython-input-8-f33247f1db40>\"\u001b[0;36m, line \u001b[0;32m10\u001b[0m\n\u001b[0;31m    train_image = np.asarray(train_image)\u001b[0m\n\u001b[0m    ^\u001b[0m\n\u001b[0;31mIndentationError\u001b[0m\u001b[0;31m:\u001b[0m unexpected indent\n"
     ]
    },
    {
     "ename": "IndentationError",
     "evalue": "unexpected indent (<ipython-input-8-f33247f1db40>, line 10)",
     "output_type": "error",
     "traceback": [
      "\u001b[0;36m  File \u001b[0;32m\"<ipython-input-8-f33247f1db40>\"\u001b[0;36m, line \u001b[0;32m10\u001b[0m\n\u001b[0;31m    train_image = np.asarray(train_image)\u001b[0m\n\u001b[0m    ^\u001b[0m\n\u001b[0;31mIndentationError\u001b[0m\u001b[0;31m:\u001b[0m unexpected indent\n"
     ]
    }
   ],
   "source": [
    "    img = cv2.imread(l[0])  \n",
    "    img = cv2.resize(img, (IMAGE_SIZE, IMAGE_SIZE))  \n",
    "  \n",
    "    train_image.append(img.flatten().astype(np.float32)/255.0)  \n",
    "  \n",
    "    tmp = np.zeros(NUM_CLASSES)  \n",
    "    tmp[int(l[1])] = 1  \n",
    "    train_label.append(tmp)  \n",
    "  \n",
    "  train_image = np.asarray(train_image)  \n",
    "  train_label = np.asarray(train_label)  \n",
    "  f.close()  \n",
    "  \n",
    "  f = open(FLAGS.test, 'r')  \n",
    "  test_image = []  \n",
    "  test_label = []  \n",
    "  for line in f:  \n",
    "    line = line.rstrip()  \n",
    "    l = line.split()  \n",
    "    img = cv2.imread(l[0])  \n",
    "    img = cv2.resize(img, (IMAGE_SIZE, IMAGE_SIZE))  \n",
    "    test_image.append(img.flatten().astype(np.float32)/255.0)  \n",
    "    tmp = np.zeros(NUM_CLASSES)  \n",
    "    tmp[int(l[1])] = 1  \n",
    "    test_label.append(tmp)  \n",
    "  test_image = np.asarray(test_image)  \n",
    "  test_label = np.asarray(test_label)  \n",
    "  f.close()  \n",
    "  \n",
    "  with tf.Graph().as_default():  \n",
    "    images_placeholder = tf.placeholder(\"float\", shape=(None, IMAGE_PIXELS))  \n",
    "    labels_placeholder = tf.placeholder(\"float\", shape=(None, NUM_CLASSES))  \n",
    "    keep_prob = tf.placeholder(\"float\")  \n",
    "    logits = inference(images_placeholder, keep_prob)  \n",
    "    loss_value = loss(logits, labels_placeholder)  \n",
    "    train_op = training(loss_value, FLAGS.learning_rate)  \n",
    "    acc = accuracy(logits, labels_placeholder)  \n",
    "  \n",
    "    saver = tf.train.Saver()  \n",
    "  \n",
    "    sess = tf.Session()  \n",
    "    sess.run(tf.global_variables_initializer())  \n",
    "  \n",
    "    summary_op = tf.summary.merge_all()  \n",
    "    summary_writer = tf.summary.FileWriter(FLAGS.train_dir, sess.graph)  \n",
    "  \n",
    "    for step in range(FLAGS.max_steps):  \n",
    "      for i in range(int(len(train_image)/FLAGS.batch_size)):  \n",
    "        batch = FLAGS.batch_size*i  \n",
    "  \n",
    "        sess.run(train_op, feed_dict={  \n",
    "          images_placeholder: train_image[batch:batch+FLAGS.batch_size],  \n",
    "          labels_placeholder: train_label[batch:batch+FLAGS.batch_size],  \n",
    "          keep_prob: 0.5})  \n",
    "  \n",
    "      train_accuracy = sess.run(acc, feed_dict={  \n",
    "        images_placeholder: train_image,  \n",
    "        labels_placeholder: train_label,  \n",
    "        keep_prob: 1.0})  \n",
    "      print(\"step %d, training accuracy %g\" % (step, train_accuracy))  \n",
    "  \n",
    "      summary_str = sess.run(summary_op, feed_dict={  \n",
    "        images_placeholder: train_image,  \n",
    "        labels_placeholder: train_label,  \n",
    "        keep_prob: 1.0})  \n",
    "      summary_writer.add_summary(summary_str, step)  \n",
    "  \n",
    "  print(\"test accuracy %g\" % sess.run(acc, feed_dict={  \n",
    "    images_placeholder: test_image,  \n",
    "    labels_placeholder: test_label,  \n",
    "    keep_prob: 1.0}))  \n",
    "  \n",
    "  save_path = saver.save(sess, './ckpt/model.ckpt')  "
   ]
  },
  {
   "cell_type": "code",
   "execution_count": null,
   "metadata": {},
   "outputs": [],
   "source": []
  }
 ],
 "metadata": {
  "kernelspec": {
   "display_name": "Python 3",
   "language": "python",
   "name": "python3"
  },
  "language_info": {
   "codemirror_mode": {
    "name": "ipython",
    "version": 3
   },
   "file_extension": ".py",
   "mimetype": "text/x-python",
   "name": "python",
   "nbconvert_exporter": "python",
   "pygments_lexer": "ipython3",
   "version": "3.6.4"
  }
 },
 "nbformat": 4,
 "nbformat_minor": 2
}
