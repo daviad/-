{
 "cells": [
  {
   "cell_type": "markdown",
   "metadata": {},
   "source": [
    "## 界面\n",
    "\n",
    "#### Notebook 文档是由一系列单元（Cell）构成，主要有两种形式的单元：\n",
    "\n",
    " * 代码单元：这里是你编写代码的地方，通过按 Shift + Enter 运行代码，其结果显示在本单元下方。代码单元左边有 In [1]: 这样的序列标记，方便人们查看代码的执行次序。\n",
    " * Markdown 单元：在这里对文本进行编辑，采用 markdown 的语法规范，可以设置文本格式、插入链接、图片甚至数学公式。同样使用 Shift + Enter 运行 markdown 单元来显示格式化的文本。\n",
    " \n",
    "\n",
    "### Jupyter Notebook 编辑界面\n",
    "#### 类似于 Linux 的 Vim 编辑器，在 notebook 中也有两种模式：\n",
    "\n",
    " * 编辑模式：编辑文本和代码。选中单元并按 Enter 键进入编辑模式，此时单元左侧显示绿色竖线。\n",
    " * 命令模式：用于执行键盘输入的快捷命令。通过 Esc 键进入命令模式，此时单元左侧显示蓝色竖线。\n",
    " \n",
    " 如果要使用快捷键，首先按 Esc 键进入命令模式，然后按相应的键实现对文档的操作。比如切换成代码单元（y）或 markdown 单元（m），或者在本单元的下方增加一单元（b）。\n",
    " \n",
    "**查看所有快捷命令可以按H。**\n",
    "\n",
    "#### 数学公式编辑\n",
    "\n",
    "在 Jupyter Notebook 的 markdown 单元中我们也可以使用 **LaTeX** 的语法来插入数学公式。\n",
    "\n",
    "* 在文本行中插入数学公式，使用一对$符号，比如质能方程      \n",
    "\n",
    "    $E = mc^2$。  \n",
    "\n",
    "* 如果要插入一个数学区块，则使用一对美元$符号。比如下面公式表示 z=x/y：\n",
    "\n",
    "$$z = frac{x}{y}$$\n",
    "\n",
    "#### 幻灯片制作\n",
    "\n",
    "#### 魔术关键字\n",
    "\n",
    "魔术关键字（magic keywords），正如其名，是用于控制 notebook 的特殊的命令。它们运行在代码单元中，以 % 或者 %% 开头，前者控制一行，后者控制整个单元。\n",
    "%magic list 显示所以magic \n",
    "比如，要得到代码运行的时间，则可以使用 %timeit；如果要在文档中显示 matplotlib 包生成的图形，则使用 % matplotlib inline；如果要做代码调试，则使用 %pdb。但注意这些命令大多是在Python kernel 中适用的，其他 kernel 大多不适用。有许许多多的魔术关键字可以使用，更详细的清单请参考  [官网](http://ipython.readthedocs.io/en/stable/interactive/magics.html) 。\n",
    "\n",
    "### 其他\n",
    "编辑模式下 tab 代码不全  shift+tab 函数说明\n",
    "\n",
    "#### dbug\n",
    "%pdb on  \n",
    "调试模式自带的对话框中输入      \n",
    "“up”来对外层函数进行调试       \n",
    "“quit”则退出该模式。\n",
    "\n",
    "### 支持远程"
   ]
  },
  {
   "cell_type": "code",
   "execution_count": null,
   "metadata": {},
   "outputs": [],
   "source": [
    "%magic "
   ]
  }
 ],
 "metadata": {
  "kernelspec": {
   "display_name": "Python 3",
   "language": "python",
   "name": "python3"
  },
  "language_info": {
   "codemirror_mode": {
    "name": "ipython",
    "version": 3
   },
   "file_extension": ".py",
   "mimetype": "text/x-python",
   "name": "python",
   "nbconvert_exporter": "python",
   "pygments_lexer": "ipython3",
   "version": "3.6.4"
  }
 },
 "nbformat": 4,
 "nbformat_minor": 2
}
